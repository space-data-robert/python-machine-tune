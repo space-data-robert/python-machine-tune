{
  "nbformat": 4,
  "nbformat_minor": 0,
  "metadata": {
    "colab": {
      "provenance": []
    },
    "kernelspec": {
      "name": "python3",
      "display_name": "Python 3"
    },
    "language_info": {
      "name": "python"
    }
  },
  "cells": [
    {
      "cell_type": "markdown",
      "source": [
        "## 🍍 머신러닝의 자동화 파이프라인"
      ],
      "metadata": {
        "id": "5lg7MCdxi1El"
      }
    },
    {
      "cell_type": "code",
      "source": [
        "# 오늘은 MLOps 에 대해 쉽고 얕게 알아보려 합니다."
      ],
      "metadata": {
        "id": "jYmVNmvxi2KO"
      },
      "execution_count": null,
      "outputs": []
    },
    {
      "cell_type": "markdown",
      "source": [
        "아마 ```DevOps``` 란 단어를 들어보신적 있을거에요.\n",
        "\n",
        "이는 소프트웨어 개발과 ∙ 운영의 합성어이며\n",
        "\n",
        "마찬가지로 ```MLOps``` 은 머신러닝 개발과 ∙ 운영을 뜻합니다.\n",
        "\n"
      ],
      "metadata": {
        "id": "1jZ9SVpEbmyk"
      }
    },
    {
      "cell_type": "code",
      "source": [
        "# DevOps = Dev + Ops : 소프트웨어 개발 + 운영이구요."
      ],
      "metadata": {
        "id": "Sf-yCBWxhKol"
      },
      "execution_count": null,
      "outputs": []
    },
    {
      "cell_type": "markdown",
      "source": [
        "다시 말해 머신러닝 시스템 개발 뿐만 아니라\n",
        "\n",
        "데이터 관리 ∙ 모델 배포와 ∙ 버전 관리 등 안정적인 서비스를 제공해야 한다는거죠.\n",
        "\n",
        "이 또한 개발 ∙ 운영팀 두팀으로 일을 진행할 경우\n",
        "\n",
        "비효율적인 요소가 분명히 생길겁니다.\n",
        "\n",
        "이러한 문제를 해결할 수 있는 것이 바로 ```MLOps``` 라 할 수 있겠어요."
      ],
      "metadata": {
        "id": "laSSgi8ShIOs"
      }
    },
    {
      "cell_type": "code",
      "source": [
        "# MLOps = ML + Ops : 머신러닝 개발 + 운영이에요."
      ],
      "metadata": {
        "id": "zBP1n8M6hiy1"
      },
      "execution_count": null,
      "outputs": []
    },
    {
      "cell_type": "markdown",
      "source": [
        "### 🍎 ```MLOps Level 0``` : 수동 프로세스"
      ],
      "metadata": {
        "id": "pJMBJOJklXcF"
      }
    },
    {
      "cell_type": "code",
      "source": [
        "# MLOps Level 0 : 작은 시스템이기에 불편함을 느끼지 못하는 단계 정도인것 같아요."
      ],
      "metadata": {
        "id": "YgWDo6LMixK9"
      },
      "execution_count": null,
      "outputs": []
    },
    {
      "cell_type": "markdown",
      "source": [
        "그렇다면 우리의 ```MLOps``` 수준은 어떠할까요?\n",
        "\n",
        "우리팀에는 데이터 과학자와 ∙ 머신러닝 연구원이 있지만\n",
        "\n",
        "머신러닝 모델을 빌드하고 ∙ 배포하는 과정은 완전히 수동인 경우가 많죠.\n",
        "\n",
        "이는 성숙도 ```Level 0``` 으로 간주됩니다."
      ],
      "metadata": {
        "id": "zAK4lbqdiwE2"
      }
    },
    {
      "cell_type": "markdown",
      "source": [
        "- [워크플로우 확인하기](https://cloud.google.com/static/architecture/images/mlops-continuous-delivery-and-automation-pipelines-in-machine-learning-2-manual-ml.svg?hl=ko)"
      ],
      "metadata": {
        "id": "n74NmD0wqzNf"
      }
    },
    {
      "cell_type": "markdown",
      "source": [
        "\n",
        "```MLOps Level 0``` 특징은 다음과 같아요.\n",
        "\n",
        "- 수동적 ∙ 스크립트 중심 ∙ 대화식 프로세스\n",
        "\n",
        "- 머신러닝 개발 ∙ 운영의 분리\n",
        "\n",
        "- 빈번한 릴리즈 반복\n",
        "\n",
        "- CI ∙ CD 존재하지 않음\n",
        "\n",
        "- 예측 모델만을 배포\n",
        "\n",
        "- 모델 성능 모니터링 부족\n"
      ],
      "metadata": {
        "id": "Kz7TT6wCh5K1"
      }
    },
    {
      "cell_type": "code",
      "source": [
        "# 머신러닝 모델을 만들었다면 다음으로 무엇을 해야할까요?"
      ],
      "metadata": {
        "id": "i5YOR6_ormpA"
      },
      "execution_count": null,
      "outputs": []
    },
    {
      "cell_type": "markdown",
      "source": [
        "해당 수준은 머신러닝 적용을 시작하는 많은 비즈니스의 일반적인 케이스입니다.\n",
        "\n",
        "만약 모델의 정확성을 유지하려면 다음을 수행해야 한다고 해요.\n",
        "\n",
        "1. 적극적인 모델 품질 모니터링\n",
        "\n",
        "    - 새로운 실험 반복과 ∙ 모델 재학습의 단서 역할\n",
        "\n",
        "2. 모델을 자주 재학습\n",
        "\n",
        "    - 추천의 경우 최신 트렌드와 ∙ 제품에 맞게 조정\n",
        "\n",
        "3. 모델 생성을 위한 새로운 구현을 지속적으로 실험\n",
        "\n",
        "    - 얼굴 인식 정확도를 높일 수 있는 모델 테스트"
      ],
      "metadata": {
        "id": "3a8xgaZVhrQn"
      }
    },
    {
      "cell_type": "code",
      "source": [
        "# 이제 모델 성능을 지속적으로 관리할 수 있게 되었어요."
      ],
      "metadata": {
        "id": "6amJ7CMHrJ5H"
      },
      "execution_count": null,
      "outputs": []
    },
    {
      "cell_type": "markdown",
      "source": [
        "### ⚾ ```MLOps Level 1``` : ML 파이프라인 자동화\n"
      ],
      "metadata": {
        "id": "SdkO2pBtnafY"
      }
    },
    {
      "cell_type": "code",
      "source": [
        "# MLOps Level 1 : 시스템이 커지거나 모델을 지속적으로 관리하고 싶다면?"
      ],
      "metadata": {
        "id": "3GfYW3ECrymo"
      },
      "execution_count": null,
      "outputs": []
    },
    {
      "cell_type": "markdown",
      "source": [
        "\n",
        "성숙도 ```Level 1``` 의 목표는 머신러닝 파이프라인을 자동화하고\n",
        "\n",
        "모델을 지속적으로 학습시키는 것이에요.\n",
        "\n",
        "이러한 프로세스를 자동화하려면\n",
        "\n",
        "파이프라인 트리거와 ∙ 메타 데이터 관리뿐만 아니라\n",
        "\n",
        "자동화된 데이터와 ∙ 모델 검증 단계를 파이프라인에 도입해야 합니다.\n"
      ],
      "metadata": {
        "id": "dznjKfUkry1o"
      }
    },
    {
      "cell_type": "markdown",
      "source": [
        "[워크 플로우 확인하기](https://cloud.google.com/static/architecture/images/mlops-continuous-delivery-and-automation-pipelines-in-machine-learning-3-ml-automation-ct.svg?hl=ko)"
      ],
      "metadata": {
        "id": "FSlvQi9ZsbHY"
      }
    },
    {
      "cell_type": "markdown",
      "source": [
        "\n",
        "```MLOps Level 1``` 은 아래 항목들로 설명이 가능해요.\n",
        "\n",
        "1. 빠른 실험 : 단계 간 전환은 자동으로 이루어지며 ∙ 실험을 빠르게 반복\n",
        "\n",
        "2. 파이프라인 트리거 바탕의 새로운 데이터를 사용한 모델 자동 학습\n",
        "\n",
        "3. 실험 ∙ 운영 환경의 균형 : 개발 환경에서 사용되는 파이프라인은 운영 환경과 동일하게 유지\n",
        "\n",
        "4. 구성 요소 ∙ 파이프라인을 위한 모듈화된 코드\n",
        "\n",
        "5. 모델의 지속적 배포\n",
        "\n",
        "6. 파이프라인 배포\n",
        "\n",
        "    - ```Level 0``` 에서는 학습된 모델을 운영 환경에 모델로 배포\n",
        "    \n",
        "    - ```Level 1``` 은 학습된 모델을 예측 서비스로 제공하기 위한 자동화 ∙ 반복 파이프라인을 배포\n",
        "\n"
      ],
      "metadata": {
        "id": "8R5ho_47saCY"
      }
    },
    {
      "cell_type": "code",
      "source": [
        "# 자동화를 위해서는 수준 0 과 다르게 필요한 것들이 있을거에요."
      ],
      "metadata": {
        "id": "1vn_lsJpsMxl"
      },
      "execution_count": null,
      "outputs": []
    },
    {
      "cell_type": "markdown",
      "source": [
        "자동화를 위해 어떠한 것들이 필요할까요?\n",
        "\n",
        "\n",
        "\n",
        "이 단계에서는 데이터 검증과 ∙ 모델 검증이 필요할 거구요.\n",
        "\n",
        "그에 따른 추가적인 아키텍처가 필요할거에요."
      ],
      "metadata": {
        "id": "EcGL_9nmtyuD"
      }
    },
    {
      "cell_type": "code",
      "source": [
        "# 이전에 우리는 누군가 확인하고 배포를 했는데 무엇을 확인했을까요?"
      ],
      "metadata": {
        "id": "4MmNha2TvnZ5"
      },
      "execution_count": null,
      "outputs": []
    },
    {
      "cell_type": "markdown",
      "source": [
        "첫째로 데이터와 모델의 유효성 검사가 필요해요.\n",
        "\n",
        "트리거에 따른 자동화 실행으로 새로운 데이터와 ∙ 새로운 모델 버전을 생성할거구요.\n",
        "\n",
        "따라서 데이터 검증과 ∙ 모델 검증이 필요하다는거죠."
      ],
      "metadata": {
        "id": "usHZIDo6wPJx"
      }
    },
    {
      "cell_type": "code",
      "source": [
        "# 이 과정을 누군가 했던겁니다."
      ],
      "metadata": {
        "id": "1_Fp3WNAweFx"
      },
      "execution_count": null,
      "outputs": []
    },
    {
      "cell_type": "markdown",
      "source": [
        "먼저 데이터 검증을 살펴볼게요.\n",
        "\n",
        "모델 학습 전에 모델을 재학습할지 또는 ∙ 파이프라인 실행을 중지할지 결정하는데 필요합니다.\n",
        "\n",
        "이 결정은 파이프라인에서 다음을 식별하면 자동으로 수행시킬 수 있어요.\n",
        "\n",
        "* 데이터 스키마 편향 ```Int16 → 10.5```\n",
        "\n",
        "    * 예상되는 모든 특성을 수신하지 않거나 ∙ 예기치 않은 특성을 수신 \n",
        "\n",
        "* 데이터 값 편향 ```Skewness : 1.150 → 7.105```\n",
        "\n",
        "    * 통계적 속성에 큰 변화를 주어 데이터 패턴이 변경되고 있음을 의미"
      ],
      "metadata": {
        "id": "4RZfSAbEwdqy"
      }
    },
    {
      "cell_type": "code",
      "source": [
        "# 즉 데이터에 문제가 없는지 확인하는 과정이에요."
      ],
      "metadata": {
        "id": "9hYNyre8wOs9"
      },
      "execution_count": null,
      "outputs": []
    },
    {
      "cell_type": "markdown",
      "source": [
        "둘째로 모델을 검증해야겠죠.\n",
        "\n",
        "새로운 데이터가 제공되고 모델을 학습시킨 후에 실행해야 할거구요.\n",
        "\n",
        "운영 배포 이전에 사용자가 모델을 평가하고 검증하는 과정이라 할 수 있어요.\n",
        "\n",
        "이러한 오프라인 모델 검증 단계로는요.\n",
        "* 모델의 예측 품질 평가를 위한 테스트셋으로 평가 측정 항목값 생성\n",
        "* 새로 학습된 모델의 평가 측정 항목값을 현재 모델과 비교\n",
        "* 모델 성능이 데이터의 다양한 세그먼트에서 일관성이 있는지 확인\n",
        "    * 새로 학습된 예측 모델은 전반적인 예측 정확도는 높을 수 있지만\n",
        "    * 고객 리전당 정확도 값은 큰 차이 발생\n",
        "* 예측 서비스 API 와의 인프라 호환성 ∙ 일관성을 포함하여 모델 배포 테스트 진행"
      ],
      "metadata": {
        "id": "IzcK7-tOsNFI"
      }
    },
    {
      "cell_type": "code",
      "source": [
        "# 모델에 문제가 없다면 배포를 해도 좋을거에요."
      ],
      "metadata": {
        "id": "vZHHcb4XwOvU"
      },
      "execution_count": null,
      "outputs": []
    },
    {
      "cell_type": "markdown",
      "source": [
        "셋째로 메타 데이터를 관리하는 겁니다.\n",
        "\n",
        "파이프라인의 각 실행에 대한 정보를 기록할거구요.\n",
        "\n",
        "이를 바탕으로 히스토리 ∙ 재현성 ∙ 아티팩트 비교를 할 수 있을거에요.\n",
        "\n",
        "파이프라인을 실행 시에 아래와 같은 기록이 필요해요.\n",
        "\n",
        "- 실행된 파이프라인 ∙ 구성 요소 ∙ 버전\n",
        "\n",
        "- 시작 ∙ 종료 날짜 ∙ 시간 ∙ 파이프라인이 각 단계별 완료에 걸린 시간\n",
        "\n",
        "- 파이프라인의 실행자\n",
        "\n",
        "- 파이프라인에 전달된 매개 변수 인수\n",
        "\n",
        "- 파이프라인의 각 단계에서 생성된 아티팩트에 대한 포인터\n",
        "\n",
        "    - 준비된 데이터의 위치 ∙ 검증 이상 ∙ 계산된 통계 ∙ 카테고리형 피처에서 추출된 어휘\n",
        "\n",
        "- 현재 모델과 새로운 모델의 평가 지표"
      ],
      "metadata": {
        "id": "ETBvCokezD8M"
      }
    },
    {
      "cell_type": "code",
      "source": [
        "# 파이프라인 로그를 남기는 과정이라 볼 수 있겠어요."
      ],
      "metadata": {
        "id": "ET_7V1hv0CAT"
      },
      "execution_count": null,
      "outputs": []
    },
    {
      "cell_type": "markdown",
      "source": [
        "마지막으로 ML 파이프라인 트리거 설정입니다.\n",
        "\n",
        "사용자는 케이스에 따라 ML 프로덕션 파이프라인을 자동화하여 \n",
        "\n",
        "새로운 데이터로 모델을 재학습시킬 수 있을거에요."
      ],
      "metadata": {
        "id": "yzvdMIE8zD-e"
      }
    },
    {
      "cell_type": "code",
      "source": [
        "# 우리는 언제 어떻게 실행시켜야 할까요? 더 필요한 기능들은 없구요?"
      ],
      "metadata": {
        "id": "iBFdlMxr0mM6"
      },
      "execution_count": null,
      "outputs": []
    },
    {
      "cell_type": "markdown",
      "source": [
        "트리거는 일반적으로 다음과 같은 기능이 필요해요.\n",
        "\n",
        "- 요청 시 파이프라인 임시 수동 실행\n",
        "\n",
        "- 일정 기준에 따른 실행\n",
        "\n",
        "    - 라벨이 지정된 데이터는 매일 ∙ 매주 또는 매월 배치\n",
        "\n",
        "    - 재학습 빈도는 데이터 패턴의 변경 빈도와 ∙ 모델 재학습 비용에 따라 상이\n",
        "\n",
        "    - 신규 수집된 학습 데이터의 가용성 기준이 필요\n",
        "\n",
        "        - 신규 데이터는 시스템적으로 ML 시스템에서 사용 불가능\n",
        "\n",
        "- 모델 성능 저하 시 조치 : 성능 저하가 눈에 띄는 경우 모델을 재학습\n",
        "\n",
        "- 데이터 분포의 중요한 변화 시 조치 (컨셉 시프트)\n",
        "\n",
        "    - 모델이 오래되어 새로운 데이터로 재학습이 필요"
      ],
      "metadata": {
        "id": "uDuIik-T0uw7"
      }
    },
    {
      "cell_type": "code",
      "source": [
        "# 여기 모델을 재학습 시키는 조건에 대한 가이드라인이 있어요."
      ],
      "metadata": {
        "id": "Jv_sd9QY10Cz"
      },
      "execution_count": null,
      "outputs": []
    },
    {
      "cell_type": "markdown",
      "source": [
        "더불어 ```MLOps Level 1``` 의 선택적으로 추가 구성요소를 운용할 수 있어요.\n",
        "\n",
        "첫째는 피처 저장소 ```Feature Store``` 에요.\n",
        "\n",
        "학습 ∙ 제공을 위한 피처 정의 ∙ 스토리지 ∙ 액세스를 표준화하는 중앙 집중식 저장소이구요.\n",
        "\n",
        "피처값에 대한 높은 처리량 일괄 처리 ∙ 짧은 지연 시간 제공을 위한 API 와 \n",
        "\n",
        "모델 학습 워크 로드를 모두 지원해야 합니다.\n"
      ],
      "metadata": {
        "id": "lJSdcmt0xzRf"
      }
    },
    {
      "cell_type": "code",
      "source": [
        "# 모델의 피처들을 관리할 수 있는 저장소라 할 수 있겠네요."
      ],
      "metadata": {
        "id": "Pqi24W6wyRjP"
      },
      "execution_count": null,
      "outputs": []
    },
    {
      "cell_type": "markdown",
      "source": [
        "피처 저장소는 다음을 수행하는데 유용하다고 해요.\n",
        "\n",
        "- 동일하거나 유사한 피처을 다시 만들지 않고 ∙ 피처 탐색 및 재사용 가능\n",
        "\n",
        "- 피처 또는 ∙ 관련 메타 데이터를 유지하여 ∙ 정의가 다른 유사한 피처 사용을 방지\n",
        "\n",
        "- 피처 저장소에서 최신 피처값 제공\n",
        "\n",
        "- 피처 저장소를 실험 ∙ 지속적 학습 ∙ 온라인 제공을 위한 데이터 소스로 사용 가능"
      ],
      "metadata": {
        "id": "6Vfu62GcyJwX"
      }
    },
    {
      "cell_type": "code",
      "source": [
        "# 만약 위 내용을 모두 실행했다면요?"
      ],
      "metadata": {
        "id": "ZVS2d0BBy8gS"
      },
      "execution_count": null,
      "outputs": []
    },
    {
      "cell_type": "markdown",
      "source": [
        "```MLOps Level 1``` 의 마지막으로 도전 과제가 있어요.\n",
        "\n",
        "파이프라인의 신규 구현이 자주 배포되지 않고 ∙ 몇개의 파이프라인만 관리한다고 가정할게요.\n",
        "\n",
        "이 경우 일반적으로 파이프라인과 ∙ 구성 요소를 수동으로 테스트합니다.\n",
        "\n",
        "신규 파이프라인 구현을 수동으로 배포하며 테스트된 소스 코드를 운영팀에 전달합니다.\n",
        "\n",
        "이 과정은 새 ML 아이디어가 아닌 ∙ 새 데이터 기반의 ∙ 새 모델을 배포할 때 적합합니다.\n"
      ],
      "metadata": {
        "id": "16KwIlUzv7mZ"
      }
    },
    {
      "cell_type": "code",
      "source": [
        "# 단순한 모델 변경이나 새로운 데이터로 학습하는 경우인 것 같네요."
      ],
      "metadata": {
        "id": "v7S12Dit4gQr"
      },
      "execution_count": null,
      "outputs": []
    },
    {
      "cell_type": "markdown",
      "source": [
        "\n",
        "하지만 새 ML 아이디어를 시도해야 하고 ML 구성요소의 새 구현을 빠르게 배포한다면요?\n",
        "\n",
        "이 경우 프로덕션 단계에서 여러 ML 파이프라인을 관리하는\n",
        "\n",
        "ML 파이프라인의 빌드 ∙ 테스트 ∙ 배포를  자동화하기 위한 CI/CD 설정이 필요합니다.\n",
        "\n",
        "다시말해 ```MLOps Level 2``` 단계로 넘어가야 한다는 거죠."
      ],
      "metadata": {
        "id": "ydzCNyTc4fkV"
      }
    },
    {
      "cell_type": "code",
      "source": [
        "# 문서를 읽다보니 우리들의 고민을 체계화하여 가이드하고 있다는 생각이드네요."
      ],
      "metadata": {
        "id": "HT5HrtCArzA4"
      },
      "execution_count": null,
      "outputs": []
    },
    {
      "cell_type": "markdown",
      "source": [
        "### 🧁 ```MLOps Level 2``` : CI/CD 파이프라인 자동화\n",
        "\n"
      ],
      "metadata": {
        "id": "5kydGJMGlXfX"
      }
    },
    {
      "cell_type": "code",
      "source": [
        "# 쓰다보니 분량이 너무 길어지는 것 같다는 생각이 들었어요."
      ],
      "metadata": {
        "id": "TcBHwV9Z2_60"
      },
      "execution_count": null,
      "outputs": []
    },
    {
      "cell_type": "markdown",
      "source": [
        "다음 글에서 ```MLOps Level 2``` 와 함께 ```Kubeflow``` ∙ ```Weight and Bias``` 등 \n",
        "\n",
        "도구를 함께 연계해서 소개해드릴게요."
      ],
      "metadata": {
        "id": "K2fJa4At2_Ix"
      }
    },
    {
      "cell_type": "code",
      "source": [
        "# 해당 문서는 구글 문서를 기반으로 작성되었어요."
      ],
      "metadata": {
        "id": "5l5uuiBHgOf1"
      },
      "execution_count": null,
      "outputs": []
    },
    {
      "cell_type": "markdown",
      "source": [
        "참고 자료\n",
        "\n",
        "- 구글 클라우드 아키텍처 센터 : [머신러닝의 지속적 배포 및 자동화 파이프라인](https://cloud.google.com/architecture/mlops-continuous-delivery-and-automation-pipelines-in-machine-learning)"
      ],
      "metadata": {
        "id": "1GvGUXGmeBSU"
      }
    }
  ]
}