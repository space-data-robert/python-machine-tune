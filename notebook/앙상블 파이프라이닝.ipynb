{
  "nbformat": 4,
  "nbformat_minor": 0,
  "metadata": {
    "colab": {
      "provenance": []
    },
    "kernelspec": {
      "name": "python3",
      "display_name": "Python 3"
    },
    "language_info": {
      "name": "python"
    }
  },
  "cells": [
    {
      "cell_type": "code",
      "source": [
        "from sklearn import set_config\n",
        "set_config(display='diagram')"
      ],
      "metadata": {
        "id": "ycmkBZDDi0Ad"
      },
      "execution_count": 20,
      "outputs": []
    },
    {
      "cell_type": "code",
      "source": [
        "from sklearn.pipeline import make_pipeline\n",
        "from sklearn.preprocessing import FunctionTransformer\n",
        "from sklearn.linear_model import Lasso\n",
        "\n",
        "lasso = make_pipeline(\n",
        "    FunctionTransformer(func=None),\n",
        "    Lasso()\n",
        ")\n",
        "display(lasso)"
      ],
      "metadata": {
        "colab": {
          "base_uri": "https://localhost:8080/",
          "height": 126
        },
        "id": "mZCQJUj-kzvZ",
        "outputId": "b2a0048b-14ad-4509-8227-fc10b1aab53c"
      },
      "execution_count": 21,
      "outputs": [
        {
          "output_type": "display_data",
          "data": {
            "text/plain": [
              "Pipeline(steps=[('functiontransformer', FunctionTransformer()),\n",
              "                ('lasso', Lasso())])"
            ],
            "text/html": [
              "<style>#sk-cffe8169-9e6f-4ac0-8c39-36f5035620f9 {color: black;background-color: white;}#sk-cffe8169-9e6f-4ac0-8c39-36f5035620f9 pre{padding: 0;}#sk-cffe8169-9e6f-4ac0-8c39-36f5035620f9 div.sk-toggleable {background-color: white;}#sk-cffe8169-9e6f-4ac0-8c39-36f5035620f9 label.sk-toggleable__label {cursor: pointer;display: block;width: 100%;margin-bottom: 0;padding: 0.3em;box-sizing: border-box;text-align: center;}#sk-cffe8169-9e6f-4ac0-8c39-36f5035620f9 label.sk-toggleable__label-arrow:before {content: \"▸\";float: left;margin-right: 0.25em;color: #696969;}#sk-cffe8169-9e6f-4ac0-8c39-36f5035620f9 label.sk-toggleable__label-arrow:hover:before {color: black;}#sk-cffe8169-9e6f-4ac0-8c39-36f5035620f9 div.sk-estimator:hover label.sk-toggleable__label-arrow:before {color: black;}#sk-cffe8169-9e6f-4ac0-8c39-36f5035620f9 div.sk-toggleable__content {max-height: 0;max-width: 0;overflow: hidden;text-align: left;background-color: #f0f8ff;}#sk-cffe8169-9e6f-4ac0-8c39-36f5035620f9 div.sk-toggleable__content pre {margin: 0.2em;color: black;border-radius: 0.25em;background-color: #f0f8ff;}#sk-cffe8169-9e6f-4ac0-8c39-36f5035620f9 input.sk-toggleable__control:checked~div.sk-toggleable__content {max-height: 200px;max-width: 100%;overflow: auto;}#sk-cffe8169-9e6f-4ac0-8c39-36f5035620f9 input.sk-toggleable__control:checked~label.sk-toggleable__label-arrow:before {content: \"▾\";}#sk-cffe8169-9e6f-4ac0-8c39-36f5035620f9 div.sk-estimator input.sk-toggleable__control:checked~label.sk-toggleable__label {background-color: #d4ebff;}#sk-cffe8169-9e6f-4ac0-8c39-36f5035620f9 div.sk-label input.sk-toggleable__control:checked~label.sk-toggleable__label {background-color: #d4ebff;}#sk-cffe8169-9e6f-4ac0-8c39-36f5035620f9 input.sk-hidden--visually {border: 0;clip: rect(1px 1px 1px 1px);clip: rect(1px, 1px, 1px, 1px);height: 1px;margin: -1px;overflow: hidden;padding: 0;position: absolute;width: 1px;}#sk-cffe8169-9e6f-4ac0-8c39-36f5035620f9 div.sk-estimator {font-family: monospace;background-color: #f0f8ff;border: 1px dotted black;border-radius: 0.25em;box-sizing: border-box;margin-bottom: 0.5em;}#sk-cffe8169-9e6f-4ac0-8c39-36f5035620f9 div.sk-estimator:hover {background-color: #d4ebff;}#sk-cffe8169-9e6f-4ac0-8c39-36f5035620f9 div.sk-parallel-item::after {content: \"\";width: 100%;border-bottom: 1px solid gray;flex-grow: 1;}#sk-cffe8169-9e6f-4ac0-8c39-36f5035620f9 div.sk-label:hover label.sk-toggleable__label {background-color: #d4ebff;}#sk-cffe8169-9e6f-4ac0-8c39-36f5035620f9 div.sk-serial::before {content: \"\";position: absolute;border-left: 1px solid gray;box-sizing: border-box;top: 2em;bottom: 0;left: 50%;}#sk-cffe8169-9e6f-4ac0-8c39-36f5035620f9 div.sk-serial {display: flex;flex-direction: column;align-items: center;background-color: white;padding-right: 0.2em;padding-left: 0.2em;}#sk-cffe8169-9e6f-4ac0-8c39-36f5035620f9 div.sk-item {z-index: 1;}#sk-cffe8169-9e6f-4ac0-8c39-36f5035620f9 div.sk-parallel {display: flex;align-items: stretch;justify-content: center;background-color: white;}#sk-cffe8169-9e6f-4ac0-8c39-36f5035620f9 div.sk-parallel::before {content: \"\";position: absolute;border-left: 1px solid gray;box-sizing: border-box;top: 2em;bottom: 0;left: 50%;}#sk-cffe8169-9e6f-4ac0-8c39-36f5035620f9 div.sk-parallel-item {display: flex;flex-direction: column;position: relative;background-color: white;}#sk-cffe8169-9e6f-4ac0-8c39-36f5035620f9 div.sk-parallel-item:first-child::after {align-self: flex-end;width: 50%;}#sk-cffe8169-9e6f-4ac0-8c39-36f5035620f9 div.sk-parallel-item:last-child::after {align-self: flex-start;width: 50%;}#sk-cffe8169-9e6f-4ac0-8c39-36f5035620f9 div.sk-parallel-item:only-child::after {width: 0;}#sk-cffe8169-9e6f-4ac0-8c39-36f5035620f9 div.sk-dashed-wrapped {border: 1px dashed gray;margin: 0 0.4em 0.5em 0.4em;box-sizing: border-box;padding-bottom: 0.4em;background-color: white;position: relative;}#sk-cffe8169-9e6f-4ac0-8c39-36f5035620f9 div.sk-label label {font-family: monospace;font-weight: bold;background-color: white;display: inline-block;line-height: 1.2em;}#sk-cffe8169-9e6f-4ac0-8c39-36f5035620f9 div.sk-label-container {position: relative;z-index: 2;text-align: center;}#sk-cffe8169-9e6f-4ac0-8c39-36f5035620f9 div.sk-container {/* jupyter's `normalize.less` sets `[hidden] { display: none; }` but bootstrap.min.css set `[hidden] { display: none !important; }` so we also need the `!important` here to be able to override the default hidden behavior on the sphinx rendered scikit-learn.org. See: https://github.com/scikit-learn/scikit-learn/issues/21755 */display: inline-block !important;position: relative;}#sk-cffe8169-9e6f-4ac0-8c39-36f5035620f9 div.sk-text-repr-fallback {display: none;}</style><div id=\"sk-cffe8169-9e6f-4ac0-8c39-36f5035620f9\" class=\"sk-top-container\"><div class=\"sk-text-repr-fallback\"><pre>Pipeline(steps=[(&#x27;functiontransformer&#x27;, FunctionTransformer()),\n",
              "                (&#x27;lasso&#x27;, Lasso())])</pre><b>Please rerun this cell to show the HTML repr or trust the notebook.</b></div><div class=\"sk-container\" hidden><div class=\"sk-item sk-dashed-wrapped\"><div class=\"sk-label-container\"><div class=\"sk-label sk-toggleable\"><input class=\"sk-toggleable__control sk-hidden--visually\" id=\"6577d760-689b-4d11-94f3-ea49b03f0fe0\" type=\"checkbox\" ><label for=\"6577d760-689b-4d11-94f3-ea49b03f0fe0\" class=\"sk-toggleable__label sk-toggleable__label-arrow\">Pipeline</label><div class=\"sk-toggleable__content\"><pre>Pipeline(steps=[(&#x27;functiontransformer&#x27;, FunctionTransformer()),\n",
              "                (&#x27;lasso&#x27;, Lasso())])</pre></div></div></div><div class=\"sk-serial\"><div class=\"sk-item\"><div class=\"sk-estimator sk-toggleable\"><input class=\"sk-toggleable__control sk-hidden--visually\" id=\"98188731-89fb-4a7e-8f57-6867731b25e1\" type=\"checkbox\" ><label for=\"98188731-89fb-4a7e-8f57-6867731b25e1\" class=\"sk-toggleable__label sk-toggleable__label-arrow\">FunctionTransformer</label><div class=\"sk-toggleable__content\"><pre>FunctionTransformer()</pre></div></div></div><div class=\"sk-item\"><div class=\"sk-estimator sk-toggleable\"><input class=\"sk-toggleable__control sk-hidden--visually\" id=\"878696dc-de67-46a2-8472-686d5c397b16\" type=\"checkbox\" ><label for=\"878696dc-de67-46a2-8472-686d5c397b16\" class=\"sk-toggleable__label sk-toggleable__label-arrow\">Lasso</label><div class=\"sk-toggleable__content\"><pre>Lasso()</pre></div></div></div></div></div></div></div>"
            ]
          },
          "metadata": {}
        }
      ]
    },
    {
      "cell_type": "code",
      "source": [
        "from sklearn.linear_model import ElasticNet\n",
        "\n",
        "enet = make_pipeline(\n",
        "    FunctionTransformer(func=None),\n",
        "    ElasticNet()\n",
        ")\n",
        "display(enet)"
      ],
      "metadata": {
        "colab": {
          "base_uri": "https://localhost:8080/",
          "height": 126
        },
        "id": "ziJ9dp_Y48Ta",
        "outputId": "59363610-df2e-47ba-8593-5204e32a3923"
      },
      "execution_count": 22,
      "outputs": [
        {
          "output_type": "display_data",
          "data": {
            "text/plain": [
              "Pipeline(steps=[('functiontransformer', FunctionTransformer()),\n",
              "                ('elasticnet', ElasticNet())])"
            ],
            "text/html": [
              "<style>#sk-2fb02287-b9f5-43b8-bac1-9d637df20aa5 {color: black;background-color: white;}#sk-2fb02287-b9f5-43b8-bac1-9d637df20aa5 pre{padding: 0;}#sk-2fb02287-b9f5-43b8-bac1-9d637df20aa5 div.sk-toggleable {background-color: white;}#sk-2fb02287-b9f5-43b8-bac1-9d637df20aa5 label.sk-toggleable__label {cursor: pointer;display: block;width: 100%;margin-bottom: 0;padding: 0.3em;box-sizing: border-box;text-align: center;}#sk-2fb02287-b9f5-43b8-bac1-9d637df20aa5 label.sk-toggleable__label-arrow:before {content: \"▸\";float: left;margin-right: 0.25em;color: #696969;}#sk-2fb02287-b9f5-43b8-bac1-9d637df20aa5 label.sk-toggleable__label-arrow:hover:before {color: black;}#sk-2fb02287-b9f5-43b8-bac1-9d637df20aa5 div.sk-estimator:hover label.sk-toggleable__label-arrow:before {color: black;}#sk-2fb02287-b9f5-43b8-bac1-9d637df20aa5 div.sk-toggleable__content {max-height: 0;max-width: 0;overflow: hidden;text-align: left;background-color: #f0f8ff;}#sk-2fb02287-b9f5-43b8-bac1-9d637df20aa5 div.sk-toggleable__content pre {margin: 0.2em;color: black;border-radius: 0.25em;background-color: #f0f8ff;}#sk-2fb02287-b9f5-43b8-bac1-9d637df20aa5 input.sk-toggleable__control:checked~div.sk-toggleable__content {max-height: 200px;max-width: 100%;overflow: auto;}#sk-2fb02287-b9f5-43b8-bac1-9d637df20aa5 input.sk-toggleable__control:checked~label.sk-toggleable__label-arrow:before {content: \"▾\";}#sk-2fb02287-b9f5-43b8-bac1-9d637df20aa5 div.sk-estimator input.sk-toggleable__control:checked~label.sk-toggleable__label {background-color: #d4ebff;}#sk-2fb02287-b9f5-43b8-bac1-9d637df20aa5 div.sk-label input.sk-toggleable__control:checked~label.sk-toggleable__label {background-color: #d4ebff;}#sk-2fb02287-b9f5-43b8-bac1-9d637df20aa5 input.sk-hidden--visually {border: 0;clip: rect(1px 1px 1px 1px);clip: rect(1px, 1px, 1px, 1px);height: 1px;margin: -1px;overflow: hidden;padding: 0;position: absolute;width: 1px;}#sk-2fb02287-b9f5-43b8-bac1-9d637df20aa5 div.sk-estimator {font-family: monospace;background-color: #f0f8ff;border: 1px dotted black;border-radius: 0.25em;box-sizing: border-box;margin-bottom: 0.5em;}#sk-2fb02287-b9f5-43b8-bac1-9d637df20aa5 div.sk-estimator:hover {background-color: #d4ebff;}#sk-2fb02287-b9f5-43b8-bac1-9d637df20aa5 div.sk-parallel-item::after {content: \"\";width: 100%;border-bottom: 1px solid gray;flex-grow: 1;}#sk-2fb02287-b9f5-43b8-bac1-9d637df20aa5 div.sk-label:hover label.sk-toggleable__label {background-color: #d4ebff;}#sk-2fb02287-b9f5-43b8-bac1-9d637df20aa5 div.sk-serial::before {content: \"\";position: absolute;border-left: 1px solid gray;box-sizing: border-box;top: 2em;bottom: 0;left: 50%;}#sk-2fb02287-b9f5-43b8-bac1-9d637df20aa5 div.sk-serial {display: flex;flex-direction: column;align-items: center;background-color: white;padding-right: 0.2em;padding-left: 0.2em;}#sk-2fb02287-b9f5-43b8-bac1-9d637df20aa5 div.sk-item {z-index: 1;}#sk-2fb02287-b9f5-43b8-bac1-9d637df20aa5 div.sk-parallel {display: flex;align-items: stretch;justify-content: center;background-color: white;}#sk-2fb02287-b9f5-43b8-bac1-9d637df20aa5 div.sk-parallel::before {content: \"\";position: absolute;border-left: 1px solid gray;box-sizing: border-box;top: 2em;bottom: 0;left: 50%;}#sk-2fb02287-b9f5-43b8-bac1-9d637df20aa5 div.sk-parallel-item {display: flex;flex-direction: column;position: relative;background-color: white;}#sk-2fb02287-b9f5-43b8-bac1-9d637df20aa5 div.sk-parallel-item:first-child::after {align-self: flex-end;width: 50%;}#sk-2fb02287-b9f5-43b8-bac1-9d637df20aa5 div.sk-parallel-item:last-child::after {align-self: flex-start;width: 50%;}#sk-2fb02287-b9f5-43b8-bac1-9d637df20aa5 div.sk-parallel-item:only-child::after {width: 0;}#sk-2fb02287-b9f5-43b8-bac1-9d637df20aa5 div.sk-dashed-wrapped {border: 1px dashed gray;margin: 0 0.4em 0.5em 0.4em;box-sizing: border-box;padding-bottom: 0.4em;background-color: white;position: relative;}#sk-2fb02287-b9f5-43b8-bac1-9d637df20aa5 div.sk-label label {font-family: monospace;font-weight: bold;background-color: white;display: inline-block;line-height: 1.2em;}#sk-2fb02287-b9f5-43b8-bac1-9d637df20aa5 div.sk-label-container {position: relative;z-index: 2;text-align: center;}#sk-2fb02287-b9f5-43b8-bac1-9d637df20aa5 div.sk-container {/* jupyter's `normalize.less` sets `[hidden] { display: none; }` but bootstrap.min.css set `[hidden] { display: none !important; }` so we also need the `!important` here to be able to override the default hidden behavior on the sphinx rendered scikit-learn.org. See: https://github.com/scikit-learn/scikit-learn/issues/21755 */display: inline-block !important;position: relative;}#sk-2fb02287-b9f5-43b8-bac1-9d637df20aa5 div.sk-text-repr-fallback {display: none;}</style><div id=\"sk-2fb02287-b9f5-43b8-bac1-9d637df20aa5\" class=\"sk-top-container\"><div class=\"sk-text-repr-fallback\"><pre>Pipeline(steps=[(&#x27;functiontransformer&#x27;, FunctionTransformer()),\n",
              "                (&#x27;elasticnet&#x27;, ElasticNet())])</pre><b>Please rerun this cell to show the HTML repr or trust the notebook.</b></div><div class=\"sk-container\" hidden><div class=\"sk-item sk-dashed-wrapped\"><div class=\"sk-label-container\"><div class=\"sk-label sk-toggleable\"><input class=\"sk-toggleable__control sk-hidden--visually\" id=\"f4160c07-5887-4f03-9a27-b24228831a5f\" type=\"checkbox\" ><label for=\"f4160c07-5887-4f03-9a27-b24228831a5f\" class=\"sk-toggleable__label sk-toggleable__label-arrow\">Pipeline</label><div class=\"sk-toggleable__content\"><pre>Pipeline(steps=[(&#x27;functiontransformer&#x27;, FunctionTransformer()),\n",
              "                (&#x27;elasticnet&#x27;, ElasticNet())])</pre></div></div></div><div class=\"sk-serial\"><div class=\"sk-item\"><div class=\"sk-estimator sk-toggleable\"><input class=\"sk-toggleable__control sk-hidden--visually\" id=\"36d2f614-3702-40d5-ad6e-e5041e20b07a\" type=\"checkbox\" ><label for=\"36d2f614-3702-40d5-ad6e-e5041e20b07a\" class=\"sk-toggleable__label sk-toggleable__label-arrow\">FunctionTransformer</label><div class=\"sk-toggleable__content\"><pre>FunctionTransformer()</pre></div></div></div><div class=\"sk-item\"><div class=\"sk-estimator sk-toggleable\"><input class=\"sk-toggleable__control sk-hidden--visually\" id=\"7812b306-c073-4715-9af5-f0d39b25154b\" type=\"checkbox\" ><label for=\"7812b306-c073-4715-9af5-f0d39b25154b\" class=\"sk-toggleable__label sk-toggleable__label-arrow\">ElasticNet</label><div class=\"sk-toggleable__content\"><pre>ElasticNet()</pre></div></div></div></div></div></div></div>"
            ]
          },
          "metadata": {}
        }
      ]
    },
    {
      "cell_type": "code",
      "source": [
        "from sklearn.ensemble import GradientBoostingRegressor\n",
        "\n",
        "gboost = make_pipeline(\n",
        "    FunctionTransformer(func=None),\n",
        "    GradientBoostingRegressor()\n",
        ")\n",
        "display(gboost)"
      ],
      "metadata": {
        "colab": {
          "base_uri": "https://localhost:8080/",
          "height": 126
        },
        "id": "ssRUNEX6483e",
        "outputId": "5c48b704-9d5f-44fc-a1fc-dfacb2f1a52c"
      },
      "execution_count": 23,
      "outputs": [
        {
          "output_type": "display_data",
          "data": {
            "text/plain": [
              "Pipeline(steps=[('functiontransformer', FunctionTransformer()),\n",
              "                ('gradientboostingregressor', GradientBoostingRegressor())])"
            ],
            "text/html": [
              "<style>#sk-e281bc16-bc99-4bd5-82d6-00ac1f4ae921 {color: black;background-color: white;}#sk-e281bc16-bc99-4bd5-82d6-00ac1f4ae921 pre{padding: 0;}#sk-e281bc16-bc99-4bd5-82d6-00ac1f4ae921 div.sk-toggleable {background-color: white;}#sk-e281bc16-bc99-4bd5-82d6-00ac1f4ae921 label.sk-toggleable__label {cursor: pointer;display: block;width: 100%;margin-bottom: 0;padding: 0.3em;box-sizing: border-box;text-align: center;}#sk-e281bc16-bc99-4bd5-82d6-00ac1f4ae921 label.sk-toggleable__label-arrow:before {content: \"▸\";float: left;margin-right: 0.25em;color: #696969;}#sk-e281bc16-bc99-4bd5-82d6-00ac1f4ae921 label.sk-toggleable__label-arrow:hover:before {color: black;}#sk-e281bc16-bc99-4bd5-82d6-00ac1f4ae921 div.sk-estimator:hover label.sk-toggleable__label-arrow:before {color: black;}#sk-e281bc16-bc99-4bd5-82d6-00ac1f4ae921 div.sk-toggleable__content {max-height: 0;max-width: 0;overflow: hidden;text-align: left;background-color: #f0f8ff;}#sk-e281bc16-bc99-4bd5-82d6-00ac1f4ae921 div.sk-toggleable__content pre {margin: 0.2em;color: black;border-radius: 0.25em;background-color: #f0f8ff;}#sk-e281bc16-bc99-4bd5-82d6-00ac1f4ae921 input.sk-toggleable__control:checked~div.sk-toggleable__content {max-height: 200px;max-width: 100%;overflow: auto;}#sk-e281bc16-bc99-4bd5-82d6-00ac1f4ae921 input.sk-toggleable__control:checked~label.sk-toggleable__label-arrow:before {content: \"▾\";}#sk-e281bc16-bc99-4bd5-82d6-00ac1f4ae921 div.sk-estimator input.sk-toggleable__control:checked~label.sk-toggleable__label {background-color: #d4ebff;}#sk-e281bc16-bc99-4bd5-82d6-00ac1f4ae921 div.sk-label input.sk-toggleable__control:checked~label.sk-toggleable__label {background-color: #d4ebff;}#sk-e281bc16-bc99-4bd5-82d6-00ac1f4ae921 input.sk-hidden--visually {border: 0;clip: rect(1px 1px 1px 1px);clip: rect(1px, 1px, 1px, 1px);height: 1px;margin: -1px;overflow: hidden;padding: 0;position: absolute;width: 1px;}#sk-e281bc16-bc99-4bd5-82d6-00ac1f4ae921 div.sk-estimator {font-family: monospace;background-color: #f0f8ff;border: 1px dotted black;border-radius: 0.25em;box-sizing: border-box;margin-bottom: 0.5em;}#sk-e281bc16-bc99-4bd5-82d6-00ac1f4ae921 div.sk-estimator:hover {background-color: #d4ebff;}#sk-e281bc16-bc99-4bd5-82d6-00ac1f4ae921 div.sk-parallel-item::after {content: \"\";width: 100%;border-bottom: 1px solid gray;flex-grow: 1;}#sk-e281bc16-bc99-4bd5-82d6-00ac1f4ae921 div.sk-label:hover label.sk-toggleable__label {background-color: #d4ebff;}#sk-e281bc16-bc99-4bd5-82d6-00ac1f4ae921 div.sk-serial::before {content: \"\";position: absolute;border-left: 1px solid gray;box-sizing: border-box;top: 2em;bottom: 0;left: 50%;}#sk-e281bc16-bc99-4bd5-82d6-00ac1f4ae921 div.sk-serial {display: flex;flex-direction: column;align-items: center;background-color: white;padding-right: 0.2em;padding-left: 0.2em;}#sk-e281bc16-bc99-4bd5-82d6-00ac1f4ae921 div.sk-item {z-index: 1;}#sk-e281bc16-bc99-4bd5-82d6-00ac1f4ae921 div.sk-parallel {display: flex;align-items: stretch;justify-content: center;background-color: white;}#sk-e281bc16-bc99-4bd5-82d6-00ac1f4ae921 div.sk-parallel::before {content: \"\";position: absolute;border-left: 1px solid gray;box-sizing: border-box;top: 2em;bottom: 0;left: 50%;}#sk-e281bc16-bc99-4bd5-82d6-00ac1f4ae921 div.sk-parallel-item {display: flex;flex-direction: column;position: relative;background-color: white;}#sk-e281bc16-bc99-4bd5-82d6-00ac1f4ae921 div.sk-parallel-item:first-child::after {align-self: flex-end;width: 50%;}#sk-e281bc16-bc99-4bd5-82d6-00ac1f4ae921 div.sk-parallel-item:last-child::after {align-self: flex-start;width: 50%;}#sk-e281bc16-bc99-4bd5-82d6-00ac1f4ae921 div.sk-parallel-item:only-child::after {width: 0;}#sk-e281bc16-bc99-4bd5-82d6-00ac1f4ae921 div.sk-dashed-wrapped {border: 1px dashed gray;margin: 0 0.4em 0.5em 0.4em;box-sizing: border-box;padding-bottom: 0.4em;background-color: white;position: relative;}#sk-e281bc16-bc99-4bd5-82d6-00ac1f4ae921 div.sk-label label {font-family: monospace;font-weight: bold;background-color: white;display: inline-block;line-height: 1.2em;}#sk-e281bc16-bc99-4bd5-82d6-00ac1f4ae921 div.sk-label-container {position: relative;z-index: 2;text-align: center;}#sk-e281bc16-bc99-4bd5-82d6-00ac1f4ae921 div.sk-container {/* jupyter's `normalize.less` sets `[hidden] { display: none; }` but bootstrap.min.css set `[hidden] { display: none !important; }` so we also need the `!important` here to be able to override the default hidden behavior on the sphinx rendered scikit-learn.org. See: https://github.com/scikit-learn/scikit-learn/issues/21755 */display: inline-block !important;position: relative;}#sk-e281bc16-bc99-4bd5-82d6-00ac1f4ae921 div.sk-text-repr-fallback {display: none;}</style><div id=\"sk-e281bc16-bc99-4bd5-82d6-00ac1f4ae921\" class=\"sk-top-container\"><div class=\"sk-text-repr-fallback\"><pre>Pipeline(steps=[(&#x27;functiontransformer&#x27;, FunctionTransformer()),\n",
              "                (&#x27;gradientboostingregressor&#x27;, GradientBoostingRegressor())])</pre><b>Please rerun this cell to show the HTML repr or trust the notebook.</b></div><div class=\"sk-container\" hidden><div class=\"sk-item sk-dashed-wrapped\"><div class=\"sk-label-container\"><div class=\"sk-label sk-toggleable\"><input class=\"sk-toggleable__control sk-hidden--visually\" id=\"e468d4e0-9167-4e3c-9fc1-e4866a7af5f9\" type=\"checkbox\" ><label for=\"e468d4e0-9167-4e3c-9fc1-e4866a7af5f9\" class=\"sk-toggleable__label sk-toggleable__label-arrow\">Pipeline</label><div class=\"sk-toggleable__content\"><pre>Pipeline(steps=[(&#x27;functiontransformer&#x27;, FunctionTransformer()),\n",
              "                (&#x27;gradientboostingregressor&#x27;, GradientBoostingRegressor())])</pre></div></div></div><div class=\"sk-serial\"><div class=\"sk-item\"><div class=\"sk-estimator sk-toggleable\"><input class=\"sk-toggleable__control sk-hidden--visually\" id=\"5c71e499-bd18-4516-90a5-6399ad1c63eb\" type=\"checkbox\" ><label for=\"5c71e499-bd18-4516-90a5-6399ad1c63eb\" class=\"sk-toggleable__label sk-toggleable__label-arrow\">FunctionTransformer</label><div class=\"sk-toggleable__content\"><pre>FunctionTransformer()</pre></div></div></div><div class=\"sk-item\"><div class=\"sk-estimator sk-toggleable\"><input class=\"sk-toggleable__control sk-hidden--visually\" id=\"eb6878f7-6531-45af-b0fc-ba139b5e1395\" type=\"checkbox\" ><label for=\"eb6878f7-6531-45af-b0fc-ba139b5e1395\" class=\"sk-toggleable__label sk-toggleable__label-arrow\">GradientBoostingRegressor</label><div class=\"sk-toggleable__content\"><pre>GradientBoostingRegressor()</pre></div></div></div></div></div></div></div>"
            ]
          },
          "metadata": {}
        }
      ]
    },
    {
      "cell_type": "code",
      "source": [
        "from sklearn.ensemble import RandomForestRegressor\n",
        "\n",
        "rforest = make_pipeline(\n",
        "    FunctionTransformer(func=None),\n",
        "    RandomForestRegressor()\n",
        ")\n",
        "display(rforest)"
      ],
      "metadata": {
        "id": "Y69k-ic4k1T5",
        "colab": {
          "base_uri": "https://localhost:8080/",
          "height": 149
        },
        "outputId": "feb10af9-a6be-4016-a9c3-16c4c912c1b9"
      },
      "execution_count": 26,
      "outputs": [
        {
          "output_type": "display_data",
          "data": {
            "text/plain": [
              "Pipeline(steps=[('functiontransformer', FunctionTransformer()),\n",
              "                ('randomforestregressor', RandomForestRegressor())])"
            ],
            "text/html": [
              "<style>#sk-8542ea25-86e2-45d4-91e2-53bd125caac7 {color: black;background-color: white;}#sk-8542ea25-86e2-45d4-91e2-53bd125caac7 pre{padding: 0;}#sk-8542ea25-86e2-45d4-91e2-53bd125caac7 div.sk-toggleable {background-color: white;}#sk-8542ea25-86e2-45d4-91e2-53bd125caac7 label.sk-toggleable__label {cursor: pointer;display: block;width: 100%;margin-bottom: 0;padding: 0.3em;box-sizing: border-box;text-align: center;}#sk-8542ea25-86e2-45d4-91e2-53bd125caac7 label.sk-toggleable__label-arrow:before {content: \"▸\";float: left;margin-right: 0.25em;color: #696969;}#sk-8542ea25-86e2-45d4-91e2-53bd125caac7 label.sk-toggleable__label-arrow:hover:before {color: black;}#sk-8542ea25-86e2-45d4-91e2-53bd125caac7 div.sk-estimator:hover label.sk-toggleable__label-arrow:before {color: black;}#sk-8542ea25-86e2-45d4-91e2-53bd125caac7 div.sk-toggleable__content {max-height: 0;max-width: 0;overflow: hidden;text-align: left;background-color: #f0f8ff;}#sk-8542ea25-86e2-45d4-91e2-53bd125caac7 div.sk-toggleable__content pre {margin: 0.2em;color: black;border-radius: 0.25em;background-color: #f0f8ff;}#sk-8542ea25-86e2-45d4-91e2-53bd125caac7 input.sk-toggleable__control:checked~div.sk-toggleable__content {max-height: 200px;max-width: 100%;overflow: auto;}#sk-8542ea25-86e2-45d4-91e2-53bd125caac7 input.sk-toggleable__control:checked~label.sk-toggleable__label-arrow:before {content: \"▾\";}#sk-8542ea25-86e2-45d4-91e2-53bd125caac7 div.sk-estimator input.sk-toggleable__control:checked~label.sk-toggleable__label {background-color: #d4ebff;}#sk-8542ea25-86e2-45d4-91e2-53bd125caac7 div.sk-label input.sk-toggleable__control:checked~label.sk-toggleable__label {background-color: #d4ebff;}#sk-8542ea25-86e2-45d4-91e2-53bd125caac7 input.sk-hidden--visually {border: 0;clip: rect(1px 1px 1px 1px);clip: rect(1px, 1px, 1px, 1px);height: 1px;margin: -1px;overflow: hidden;padding: 0;position: absolute;width: 1px;}#sk-8542ea25-86e2-45d4-91e2-53bd125caac7 div.sk-estimator {font-family: monospace;background-color: #f0f8ff;border: 1px dotted black;border-radius: 0.25em;box-sizing: border-box;margin-bottom: 0.5em;}#sk-8542ea25-86e2-45d4-91e2-53bd125caac7 div.sk-estimator:hover {background-color: #d4ebff;}#sk-8542ea25-86e2-45d4-91e2-53bd125caac7 div.sk-parallel-item::after {content: \"\";width: 100%;border-bottom: 1px solid gray;flex-grow: 1;}#sk-8542ea25-86e2-45d4-91e2-53bd125caac7 div.sk-label:hover label.sk-toggleable__label {background-color: #d4ebff;}#sk-8542ea25-86e2-45d4-91e2-53bd125caac7 div.sk-serial::before {content: \"\";position: absolute;border-left: 1px solid gray;box-sizing: border-box;top: 2em;bottom: 0;left: 50%;}#sk-8542ea25-86e2-45d4-91e2-53bd125caac7 div.sk-serial {display: flex;flex-direction: column;align-items: center;background-color: white;padding-right: 0.2em;padding-left: 0.2em;}#sk-8542ea25-86e2-45d4-91e2-53bd125caac7 div.sk-item {z-index: 1;}#sk-8542ea25-86e2-45d4-91e2-53bd125caac7 div.sk-parallel {display: flex;align-items: stretch;justify-content: center;background-color: white;}#sk-8542ea25-86e2-45d4-91e2-53bd125caac7 div.sk-parallel::before {content: \"\";position: absolute;border-left: 1px solid gray;box-sizing: border-box;top: 2em;bottom: 0;left: 50%;}#sk-8542ea25-86e2-45d4-91e2-53bd125caac7 div.sk-parallel-item {display: flex;flex-direction: column;position: relative;background-color: white;}#sk-8542ea25-86e2-45d4-91e2-53bd125caac7 div.sk-parallel-item:first-child::after {align-self: flex-end;width: 50%;}#sk-8542ea25-86e2-45d4-91e2-53bd125caac7 div.sk-parallel-item:last-child::after {align-self: flex-start;width: 50%;}#sk-8542ea25-86e2-45d4-91e2-53bd125caac7 div.sk-parallel-item:only-child::after {width: 0;}#sk-8542ea25-86e2-45d4-91e2-53bd125caac7 div.sk-dashed-wrapped {border: 1px dashed gray;margin: 0 0.4em 0.5em 0.4em;box-sizing: border-box;padding-bottom: 0.4em;background-color: white;position: relative;}#sk-8542ea25-86e2-45d4-91e2-53bd125caac7 div.sk-label label {font-family: monospace;font-weight: bold;background-color: white;display: inline-block;line-height: 1.2em;}#sk-8542ea25-86e2-45d4-91e2-53bd125caac7 div.sk-label-container {position: relative;z-index: 2;text-align: center;}#sk-8542ea25-86e2-45d4-91e2-53bd125caac7 div.sk-container {/* jupyter's `normalize.less` sets `[hidden] { display: none; }` but bootstrap.min.css set `[hidden] { display: none !important; }` so we also need the `!important` here to be able to override the default hidden behavior on the sphinx rendered scikit-learn.org. See: https://github.com/scikit-learn/scikit-learn/issues/21755 */display: inline-block !important;position: relative;}#sk-8542ea25-86e2-45d4-91e2-53bd125caac7 div.sk-text-repr-fallback {display: none;}</style><div id=\"sk-8542ea25-86e2-45d4-91e2-53bd125caac7\" class=\"sk-top-container\"><div class=\"sk-text-repr-fallback\"><pre>Pipeline(steps=[(&#x27;functiontransformer&#x27;, FunctionTransformer()),\n",
              "                (&#x27;randomforestregressor&#x27;, RandomForestRegressor())])</pre><b>Please rerun this cell to show the HTML repr or trust the notebook.</b></div><div class=\"sk-container\" hidden><div class=\"sk-item sk-dashed-wrapped\"><div class=\"sk-label-container\"><div class=\"sk-label sk-toggleable\"><input class=\"sk-toggleable__control sk-hidden--visually\" id=\"5e80cf34-4d90-44ad-b46c-0deddeb2c135\" type=\"checkbox\" ><label for=\"5e80cf34-4d90-44ad-b46c-0deddeb2c135\" class=\"sk-toggleable__label sk-toggleable__label-arrow\">Pipeline</label><div class=\"sk-toggleable__content\"><pre>Pipeline(steps=[(&#x27;functiontransformer&#x27;, FunctionTransformer()),\n",
              "                (&#x27;randomforestregressor&#x27;, RandomForestRegressor())])</pre></div></div></div><div class=\"sk-serial\"><div class=\"sk-item\"><div class=\"sk-estimator sk-toggleable\"><input class=\"sk-toggleable__control sk-hidden--visually\" id=\"eb17201f-3c13-4a50-aca8-a242f528e58d\" type=\"checkbox\" ><label for=\"eb17201f-3c13-4a50-aca8-a242f528e58d\" class=\"sk-toggleable__label sk-toggleable__label-arrow\">FunctionTransformer</label><div class=\"sk-toggleable__content\"><pre>FunctionTransformer()</pre></div></div></div><div class=\"sk-item\"><div class=\"sk-estimator sk-toggleable\"><input class=\"sk-toggleable__control sk-hidden--visually\" id=\"e50b6715-03fb-4fb1-8ba8-1da934f58630\" type=\"checkbox\" ><label for=\"e50b6715-03fb-4fb1-8ba8-1da934f58630\" class=\"sk-toggleable__label sk-toggleable__label-arrow\">RandomForestRegressor</label><div class=\"sk-toggleable__content\"><pre>RandomForestRegressor()</pre></div></div></div></div></div></div></div>"
            ]
          },
          "metadata": {}
        }
      ]
    },
    {
      "cell_type": "code",
      "source": [
        "from sklearn.ensemble import VotingRegressor\n",
        "\n",
        "estimators = [\n",
        "    ('Lasso', lasso), \n",
        "    ('ElasticNet', enet),\n",
        "    ('RandomForestRegressor', rforest),\n",
        "    ('GradientBoostingRegressor', gboost)]\n",
        "\n",
        "voting = VotingRegressor(estimators=estimators)\n",
        "display(voting)"
      ],
      "metadata": {
        "id": "c3HAW3Y2kzxf",
        "colab": {
          "base_uri": "https://localhost:8080/",
          "height": 145
        },
        "outputId": "15ee79db-0f82-4315-ac6e-e964c6ed63a6"
      },
      "execution_count": 31,
      "outputs": [
        {
          "output_type": "display_data",
          "data": {
            "text/plain": [
              "VotingRegressor(estimators=[('Lasso',\n",
              "                             Pipeline(steps=[('functiontransformer',\n",
              "                                              FunctionTransformer()),\n",
              "                                             ('lasso', Lasso())])),\n",
              "                            ('ElasticNet',\n",
              "                             Pipeline(steps=[('functiontransformer',\n",
              "                                              FunctionTransformer()),\n",
              "                                             ('elasticnet', ElasticNet())])),\n",
              "                            ('RandomForestRegressor',\n",
              "                             Pipeline(steps=[('functiontransformer',\n",
              "                                              FunctionTransformer()),\n",
              "                                             ('randomforestregressor',\n",
              "                                              RandomForestRegressor())])),\n",
              "                            ('GradientBoostingRegressor',\n",
              "                             Pipeline(steps=[('functiontransformer',\n",
              "                                              FunctionTransformer()),\n",
              "                                             ('gradientboostingregressor',\n",
              "                                              GradientBoostingRegressor())]))])"
            ],
            "text/html": [
              "<style>#sk-461040ce-a3bf-4d81-a9d0-aebf6bca978e {color: black;background-color: white;}#sk-461040ce-a3bf-4d81-a9d0-aebf6bca978e pre{padding: 0;}#sk-461040ce-a3bf-4d81-a9d0-aebf6bca978e div.sk-toggleable {background-color: white;}#sk-461040ce-a3bf-4d81-a9d0-aebf6bca978e label.sk-toggleable__label {cursor: pointer;display: block;width: 100%;margin-bottom: 0;padding: 0.3em;box-sizing: border-box;text-align: center;}#sk-461040ce-a3bf-4d81-a9d0-aebf6bca978e label.sk-toggleable__label-arrow:before {content: \"▸\";float: left;margin-right: 0.25em;color: #696969;}#sk-461040ce-a3bf-4d81-a9d0-aebf6bca978e label.sk-toggleable__label-arrow:hover:before {color: black;}#sk-461040ce-a3bf-4d81-a9d0-aebf6bca978e div.sk-estimator:hover label.sk-toggleable__label-arrow:before {color: black;}#sk-461040ce-a3bf-4d81-a9d0-aebf6bca978e div.sk-toggleable__content {max-height: 0;max-width: 0;overflow: hidden;text-align: left;background-color: #f0f8ff;}#sk-461040ce-a3bf-4d81-a9d0-aebf6bca978e div.sk-toggleable__content pre {margin: 0.2em;color: black;border-radius: 0.25em;background-color: #f0f8ff;}#sk-461040ce-a3bf-4d81-a9d0-aebf6bca978e input.sk-toggleable__control:checked~div.sk-toggleable__content {max-height: 200px;max-width: 100%;overflow: auto;}#sk-461040ce-a3bf-4d81-a9d0-aebf6bca978e input.sk-toggleable__control:checked~label.sk-toggleable__label-arrow:before {content: \"▾\";}#sk-461040ce-a3bf-4d81-a9d0-aebf6bca978e div.sk-estimator input.sk-toggleable__control:checked~label.sk-toggleable__label {background-color: #d4ebff;}#sk-461040ce-a3bf-4d81-a9d0-aebf6bca978e div.sk-label input.sk-toggleable__control:checked~label.sk-toggleable__label {background-color: #d4ebff;}#sk-461040ce-a3bf-4d81-a9d0-aebf6bca978e input.sk-hidden--visually {border: 0;clip: rect(1px 1px 1px 1px);clip: rect(1px, 1px, 1px, 1px);height: 1px;margin: -1px;overflow: hidden;padding: 0;position: absolute;width: 1px;}#sk-461040ce-a3bf-4d81-a9d0-aebf6bca978e div.sk-estimator {font-family: monospace;background-color: #f0f8ff;border: 1px dotted black;border-radius: 0.25em;box-sizing: border-box;margin-bottom: 0.5em;}#sk-461040ce-a3bf-4d81-a9d0-aebf6bca978e div.sk-estimator:hover {background-color: #d4ebff;}#sk-461040ce-a3bf-4d81-a9d0-aebf6bca978e div.sk-parallel-item::after {content: \"\";width: 100%;border-bottom: 1px solid gray;flex-grow: 1;}#sk-461040ce-a3bf-4d81-a9d0-aebf6bca978e div.sk-label:hover label.sk-toggleable__label {background-color: #d4ebff;}#sk-461040ce-a3bf-4d81-a9d0-aebf6bca978e div.sk-serial::before {content: \"\";position: absolute;border-left: 1px solid gray;box-sizing: border-box;top: 2em;bottom: 0;left: 50%;}#sk-461040ce-a3bf-4d81-a9d0-aebf6bca978e div.sk-serial {display: flex;flex-direction: column;align-items: center;background-color: white;padding-right: 0.2em;padding-left: 0.2em;}#sk-461040ce-a3bf-4d81-a9d0-aebf6bca978e div.sk-item {z-index: 1;}#sk-461040ce-a3bf-4d81-a9d0-aebf6bca978e div.sk-parallel {display: flex;align-items: stretch;justify-content: center;background-color: white;}#sk-461040ce-a3bf-4d81-a9d0-aebf6bca978e div.sk-parallel::before {content: \"\";position: absolute;border-left: 1px solid gray;box-sizing: border-box;top: 2em;bottom: 0;left: 50%;}#sk-461040ce-a3bf-4d81-a9d0-aebf6bca978e div.sk-parallel-item {display: flex;flex-direction: column;position: relative;background-color: white;}#sk-461040ce-a3bf-4d81-a9d0-aebf6bca978e div.sk-parallel-item:first-child::after {align-self: flex-end;width: 50%;}#sk-461040ce-a3bf-4d81-a9d0-aebf6bca978e div.sk-parallel-item:last-child::after {align-self: flex-start;width: 50%;}#sk-461040ce-a3bf-4d81-a9d0-aebf6bca978e div.sk-parallel-item:only-child::after {width: 0;}#sk-461040ce-a3bf-4d81-a9d0-aebf6bca978e div.sk-dashed-wrapped {border: 1px dashed gray;margin: 0 0.4em 0.5em 0.4em;box-sizing: border-box;padding-bottom: 0.4em;background-color: white;position: relative;}#sk-461040ce-a3bf-4d81-a9d0-aebf6bca978e div.sk-label label {font-family: monospace;font-weight: bold;background-color: white;display: inline-block;line-height: 1.2em;}#sk-461040ce-a3bf-4d81-a9d0-aebf6bca978e div.sk-label-container {position: relative;z-index: 2;text-align: center;}#sk-461040ce-a3bf-4d81-a9d0-aebf6bca978e div.sk-container {/* jupyter's `normalize.less` sets `[hidden] { display: none; }` but bootstrap.min.css set `[hidden] { display: none !important; }` so we also need the `!important` here to be able to override the default hidden behavior on the sphinx rendered scikit-learn.org. See: https://github.com/scikit-learn/scikit-learn/issues/21755 */display: inline-block !important;position: relative;}#sk-461040ce-a3bf-4d81-a9d0-aebf6bca978e div.sk-text-repr-fallback {display: none;}</style><div id=\"sk-461040ce-a3bf-4d81-a9d0-aebf6bca978e\" class=\"sk-top-container\"><div class=\"sk-text-repr-fallback\"><pre>VotingRegressor(estimators=[(&#x27;Lasso&#x27;,\n",
              "                             Pipeline(steps=[(&#x27;functiontransformer&#x27;,\n",
              "                                              FunctionTransformer()),\n",
              "                                             (&#x27;lasso&#x27;, Lasso())])),\n",
              "                            (&#x27;ElasticNet&#x27;,\n",
              "                             Pipeline(steps=[(&#x27;functiontransformer&#x27;,\n",
              "                                              FunctionTransformer()),\n",
              "                                             (&#x27;elasticnet&#x27;, ElasticNet())])),\n",
              "                            (&#x27;RandomForestRegressor&#x27;,\n",
              "                             Pipeline(steps=[(&#x27;functiontransformer&#x27;,\n",
              "                                              FunctionTransformer()),\n",
              "                                             (&#x27;randomforestregressor&#x27;,\n",
              "                                              RandomForestRegressor())])),\n",
              "                            (&#x27;GradientBoostingRegressor&#x27;,\n",
              "                             Pipeline(steps=[(&#x27;functiontransformer&#x27;,\n",
              "                                              FunctionTransformer()),\n",
              "                                             (&#x27;gradientboostingregressor&#x27;,\n",
              "                                              GradientBoostingRegressor())]))])</pre><b>Please rerun this cell to show the HTML repr or trust the notebook.</b></div><div class=\"sk-container\" hidden><div class=\"sk-item sk-dashed-wrapped\"><div class=\"sk-label-container\"><div class=\"sk-label sk-toggleable\"><input class=\"sk-toggleable__control sk-hidden--visually\" id=\"b248f69c-8c8e-4879-80dd-6f99cf5db2f6\" type=\"checkbox\" ><label for=\"b248f69c-8c8e-4879-80dd-6f99cf5db2f6\" class=\"sk-toggleable__label sk-toggleable__label-arrow\">VotingRegressor</label><div class=\"sk-toggleable__content\"><pre>VotingRegressor(estimators=[(&#x27;Lasso&#x27;,\n",
              "                             Pipeline(steps=[(&#x27;functiontransformer&#x27;,\n",
              "                                              FunctionTransformer()),\n",
              "                                             (&#x27;lasso&#x27;, Lasso())])),\n",
              "                            (&#x27;ElasticNet&#x27;,\n",
              "                             Pipeline(steps=[(&#x27;functiontransformer&#x27;,\n",
              "                                              FunctionTransformer()),\n",
              "                                             (&#x27;elasticnet&#x27;, ElasticNet())])),\n",
              "                            (&#x27;RandomForestRegressor&#x27;,\n",
              "                             Pipeline(steps=[(&#x27;functiontransformer&#x27;,\n",
              "                                              FunctionTransformer()),\n",
              "                                             (&#x27;randomforestregressor&#x27;,\n",
              "                                              RandomForestRegressor())])),\n",
              "                            (&#x27;GradientBoostingRegressor&#x27;,\n",
              "                             Pipeline(steps=[(&#x27;functiontransformer&#x27;,\n",
              "                                              FunctionTransformer()),\n",
              "                                             (&#x27;gradientboostingregressor&#x27;,\n",
              "                                              GradientBoostingRegressor())]))])</pre></div></div></div><div class=\"sk-parallel\"><div class=\"sk-parallel-item\"><div class=\"sk-item\"><div class=\"sk-label-container\"><div class=\"sk-label sk-toggleable\"><label>Lasso</label></div></div><div class=\"sk-serial\"><div class=\"sk-item\"><div class=\"sk-serial\"><div class=\"sk-item\"><div class=\"sk-estimator sk-toggleable\"><input class=\"sk-toggleable__control sk-hidden--visually\" id=\"2b8a9cd1-7e56-45e7-8be6-8eb5b61e984f\" type=\"checkbox\" ><label for=\"2b8a9cd1-7e56-45e7-8be6-8eb5b61e984f\" class=\"sk-toggleable__label sk-toggleable__label-arrow\">FunctionTransformer</label><div class=\"sk-toggleable__content\"><pre>FunctionTransformer()</pre></div></div></div><div class=\"sk-item\"><div class=\"sk-estimator sk-toggleable\"><input class=\"sk-toggleable__control sk-hidden--visually\" id=\"e8b23569-5ead-4cd7-8a50-05a2257c1ac2\" type=\"checkbox\" ><label for=\"e8b23569-5ead-4cd7-8a50-05a2257c1ac2\" class=\"sk-toggleable__label sk-toggleable__label-arrow\">Lasso</label><div class=\"sk-toggleable__content\"><pre>Lasso()</pre></div></div></div></div></div></div></div></div><div class=\"sk-parallel-item\"><div class=\"sk-item\"><div class=\"sk-label-container\"><div class=\"sk-label sk-toggleable\"><label>ElasticNet</label></div></div><div class=\"sk-serial\"><div class=\"sk-item\"><div class=\"sk-serial\"><div class=\"sk-item\"><div class=\"sk-estimator sk-toggleable\"><input class=\"sk-toggleable__control sk-hidden--visually\" id=\"01d8ecdd-77a1-4256-b452-589fa440e5b1\" type=\"checkbox\" ><label for=\"01d8ecdd-77a1-4256-b452-589fa440e5b1\" class=\"sk-toggleable__label sk-toggleable__label-arrow\">FunctionTransformer</label><div class=\"sk-toggleable__content\"><pre>FunctionTransformer()</pre></div></div></div><div class=\"sk-item\"><div class=\"sk-estimator sk-toggleable\"><input class=\"sk-toggleable__control sk-hidden--visually\" id=\"7d1c0a74-f9f2-4315-967e-fdb9801e11b8\" type=\"checkbox\" ><label for=\"7d1c0a74-f9f2-4315-967e-fdb9801e11b8\" class=\"sk-toggleable__label sk-toggleable__label-arrow\">ElasticNet</label><div class=\"sk-toggleable__content\"><pre>ElasticNet()</pre></div></div></div></div></div></div></div></div><div class=\"sk-parallel-item\"><div class=\"sk-item\"><div class=\"sk-label-container\"><div class=\"sk-label sk-toggleable\"><label>RandomForestRegressor</label></div></div><div class=\"sk-serial\"><div class=\"sk-item\"><div class=\"sk-serial\"><div class=\"sk-item\"><div class=\"sk-estimator sk-toggleable\"><input class=\"sk-toggleable__control sk-hidden--visually\" id=\"b2c0b244-296d-44e8-8a55-eb42038a1ee6\" type=\"checkbox\" ><label for=\"b2c0b244-296d-44e8-8a55-eb42038a1ee6\" class=\"sk-toggleable__label sk-toggleable__label-arrow\">FunctionTransformer</label><div class=\"sk-toggleable__content\"><pre>FunctionTransformer()</pre></div></div></div><div class=\"sk-item\"><div class=\"sk-estimator sk-toggleable\"><input class=\"sk-toggleable__control sk-hidden--visually\" id=\"a4b077b8-484e-4c9b-8ef2-7c60a5370e5f\" type=\"checkbox\" ><label for=\"a4b077b8-484e-4c9b-8ef2-7c60a5370e5f\" class=\"sk-toggleable__label sk-toggleable__label-arrow\">RandomForestRegressor</label><div class=\"sk-toggleable__content\"><pre>RandomForestRegressor()</pre></div></div></div></div></div></div></div></div><div class=\"sk-parallel-item\"><div class=\"sk-item\"><div class=\"sk-label-container\"><div class=\"sk-label sk-toggleable\"><label>GradientBoostingRegressor</label></div></div><div class=\"sk-serial\"><div class=\"sk-item\"><div class=\"sk-serial\"><div class=\"sk-item\"><div class=\"sk-estimator sk-toggleable\"><input class=\"sk-toggleable__control sk-hidden--visually\" id=\"26b17758-8374-42a2-b188-ea42d588b57e\" type=\"checkbox\" ><label for=\"26b17758-8374-42a2-b188-ea42d588b57e\" class=\"sk-toggleable__label sk-toggleable__label-arrow\">FunctionTransformer</label><div class=\"sk-toggleable__content\"><pre>FunctionTransformer()</pre></div></div></div><div class=\"sk-item\"><div class=\"sk-estimator sk-toggleable\"><input class=\"sk-toggleable__control sk-hidden--visually\" id=\"5aced0f3-8928-40f3-8ed6-75010c9ad07c\" type=\"checkbox\" ><label for=\"5aced0f3-8928-40f3-8ed6-75010c9ad07c\" class=\"sk-toggleable__label sk-toggleable__label-arrow\">GradientBoostingRegressor</label><div class=\"sk-toggleable__content\"><pre>GradientBoostingRegressor()</pre></div></div></div></div></div></div></div></div></div></div></div></div>"
            ]
          },
          "metadata": {}
        }
      ]
    },
    {
      "cell_type": "code",
      "source": [
        "from sklearn.ensemble import StackingRegressor\n",
        "from sklearn.linear_model import RidgeCV\n",
        "\n",
        "stacking = StackingRegressor(\n",
        "    estimators=estimators, \n",
        "    final_estimator=RidgeCV()\n",
        ")\n",
        "display(stacking)"
      ],
      "metadata": {
        "id": "2-fGxgE9kjcQ",
        "colab": {
          "base_uri": "https://localhost:8080/",
          "height": 198
        },
        "outputId": "a4bf4fc7-9353-414d-cf2e-3ba574fb6397"
      },
      "execution_count": 33,
      "outputs": [
        {
          "output_type": "display_data",
          "data": {
            "text/plain": [
              "StackingRegressor(estimators=[('Lasso',\n",
              "                               Pipeline(steps=[('functiontransformer',\n",
              "                                                FunctionTransformer()),\n",
              "                                               ('lasso', Lasso())])),\n",
              "                              ('ElasticNet',\n",
              "                               Pipeline(steps=[('functiontransformer',\n",
              "                                                FunctionTransformer()),\n",
              "                                               ('elasticnet', ElasticNet())])),\n",
              "                              ('RandomForestRegressor',\n",
              "                               Pipeline(steps=[('functiontransformer',\n",
              "                                                FunctionTransformer()),\n",
              "                                               ('randomforestregressor',\n",
              "                                                RandomForestRegressor())])),\n",
              "                              ('GradientBoostingRegressor',\n",
              "                               Pipeline(steps=[('functiontransformer',\n",
              "                                                FunctionTransformer()),\n",
              "                                               ('gradientboostingregressor',\n",
              "                                                GradientBoostingRegressor())]))],\n",
              "                  final_estimator=RidgeCV(alphas=array([ 0.1,  1. , 10. ])))"
            ],
            "text/html": [
              "<style>#sk-b88f641e-7e9b-47d1-945e-91e99b341ead {color: black;background-color: white;}#sk-b88f641e-7e9b-47d1-945e-91e99b341ead pre{padding: 0;}#sk-b88f641e-7e9b-47d1-945e-91e99b341ead div.sk-toggleable {background-color: white;}#sk-b88f641e-7e9b-47d1-945e-91e99b341ead label.sk-toggleable__label {cursor: pointer;display: block;width: 100%;margin-bottom: 0;padding: 0.3em;box-sizing: border-box;text-align: center;}#sk-b88f641e-7e9b-47d1-945e-91e99b341ead label.sk-toggleable__label-arrow:before {content: \"▸\";float: left;margin-right: 0.25em;color: #696969;}#sk-b88f641e-7e9b-47d1-945e-91e99b341ead label.sk-toggleable__label-arrow:hover:before {color: black;}#sk-b88f641e-7e9b-47d1-945e-91e99b341ead div.sk-estimator:hover label.sk-toggleable__label-arrow:before {color: black;}#sk-b88f641e-7e9b-47d1-945e-91e99b341ead div.sk-toggleable__content {max-height: 0;max-width: 0;overflow: hidden;text-align: left;background-color: #f0f8ff;}#sk-b88f641e-7e9b-47d1-945e-91e99b341ead div.sk-toggleable__content pre {margin: 0.2em;color: black;border-radius: 0.25em;background-color: #f0f8ff;}#sk-b88f641e-7e9b-47d1-945e-91e99b341ead input.sk-toggleable__control:checked~div.sk-toggleable__content {max-height: 200px;max-width: 100%;overflow: auto;}#sk-b88f641e-7e9b-47d1-945e-91e99b341ead input.sk-toggleable__control:checked~label.sk-toggleable__label-arrow:before {content: \"▾\";}#sk-b88f641e-7e9b-47d1-945e-91e99b341ead div.sk-estimator input.sk-toggleable__control:checked~label.sk-toggleable__label {background-color: #d4ebff;}#sk-b88f641e-7e9b-47d1-945e-91e99b341ead div.sk-label input.sk-toggleable__control:checked~label.sk-toggleable__label {background-color: #d4ebff;}#sk-b88f641e-7e9b-47d1-945e-91e99b341ead input.sk-hidden--visually {border: 0;clip: rect(1px 1px 1px 1px);clip: rect(1px, 1px, 1px, 1px);height: 1px;margin: -1px;overflow: hidden;padding: 0;position: absolute;width: 1px;}#sk-b88f641e-7e9b-47d1-945e-91e99b341ead div.sk-estimator {font-family: monospace;background-color: #f0f8ff;border: 1px dotted black;border-radius: 0.25em;box-sizing: border-box;margin-bottom: 0.5em;}#sk-b88f641e-7e9b-47d1-945e-91e99b341ead div.sk-estimator:hover {background-color: #d4ebff;}#sk-b88f641e-7e9b-47d1-945e-91e99b341ead div.sk-parallel-item::after {content: \"\";width: 100%;border-bottom: 1px solid gray;flex-grow: 1;}#sk-b88f641e-7e9b-47d1-945e-91e99b341ead div.sk-label:hover label.sk-toggleable__label {background-color: #d4ebff;}#sk-b88f641e-7e9b-47d1-945e-91e99b341ead div.sk-serial::before {content: \"\";position: absolute;border-left: 1px solid gray;box-sizing: border-box;top: 2em;bottom: 0;left: 50%;}#sk-b88f641e-7e9b-47d1-945e-91e99b341ead div.sk-serial {display: flex;flex-direction: column;align-items: center;background-color: white;padding-right: 0.2em;padding-left: 0.2em;}#sk-b88f641e-7e9b-47d1-945e-91e99b341ead div.sk-item {z-index: 1;}#sk-b88f641e-7e9b-47d1-945e-91e99b341ead div.sk-parallel {display: flex;align-items: stretch;justify-content: center;background-color: white;}#sk-b88f641e-7e9b-47d1-945e-91e99b341ead div.sk-parallel::before {content: \"\";position: absolute;border-left: 1px solid gray;box-sizing: border-box;top: 2em;bottom: 0;left: 50%;}#sk-b88f641e-7e9b-47d1-945e-91e99b341ead div.sk-parallel-item {display: flex;flex-direction: column;position: relative;background-color: white;}#sk-b88f641e-7e9b-47d1-945e-91e99b341ead div.sk-parallel-item:first-child::after {align-self: flex-end;width: 50%;}#sk-b88f641e-7e9b-47d1-945e-91e99b341ead div.sk-parallel-item:last-child::after {align-self: flex-start;width: 50%;}#sk-b88f641e-7e9b-47d1-945e-91e99b341ead div.sk-parallel-item:only-child::after {width: 0;}#sk-b88f641e-7e9b-47d1-945e-91e99b341ead div.sk-dashed-wrapped {border: 1px dashed gray;margin: 0 0.4em 0.5em 0.4em;box-sizing: border-box;padding-bottom: 0.4em;background-color: white;position: relative;}#sk-b88f641e-7e9b-47d1-945e-91e99b341ead div.sk-label label {font-family: monospace;font-weight: bold;background-color: white;display: inline-block;line-height: 1.2em;}#sk-b88f641e-7e9b-47d1-945e-91e99b341ead div.sk-label-container {position: relative;z-index: 2;text-align: center;}#sk-b88f641e-7e9b-47d1-945e-91e99b341ead div.sk-container {/* jupyter's `normalize.less` sets `[hidden] { display: none; }` but bootstrap.min.css set `[hidden] { display: none !important; }` so we also need the `!important` here to be able to override the default hidden behavior on the sphinx rendered scikit-learn.org. See: https://github.com/scikit-learn/scikit-learn/issues/21755 */display: inline-block !important;position: relative;}#sk-b88f641e-7e9b-47d1-945e-91e99b341ead div.sk-text-repr-fallback {display: none;}</style><div id=\"sk-b88f641e-7e9b-47d1-945e-91e99b341ead\" class=\"sk-top-container\"><div class=\"sk-text-repr-fallback\"><pre>StackingRegressor(estimators=[(&#x27;Lasso&#x27;,\n",
              "                               Pipeline(steps=[(&#x27;functiontransformer&#x27;,\n",
              "                                                FunctionTransformer()),\n",
              "                                               (&#x27;lasso&#x27;, Lasso())])),\n",
              "                              (&#x27;ElasticNet&#x27;,\n",
              "                               Pipeline(steps=[(&#x27;functiontransformer&#x27;,\n",
              "                                                FunctionTransformer()),\n",
              "                                               (&#x27;elasticnet&#x27;, ElasticNet())])),\n",
              "                              (&#x27;RandomForestRegressor&#x27;,\n",
              "                               Pipeline(steps=[(&#x27;functiontransformer&#x27;,\n",
              "                                                FunctionTransformer()),\n",
              "                                               (&#x27;randomforestregressor&#x27;,\n",
              "                                                RandomForestRegressor())])),\n",
              "                              (&#x27;GradientBoostingRegressor&#x27;,\n",
              "                               Pipeline(steps=[(&#x27;functiontransformer&#x27;,\n",
              "                                                FunctionTransformer()),\n",
              "                                               (&#x27;gradientboostingregressor&#x27;,\n",
              "                                                GradientBoostingRegressor())]))],\n",
              "                  final_estimator=RidgeCV(alphas=array([ 0.1,  1. , 10. ])))</pre><b>Please rerun this cell to show the HTML repr or trust the notebook.</b></div><div class=\"sk-container\" hidden><div class=\"sk-item sk-dashed-wrapped\"><div class=\"sk-label-container\"><div class=\"sk-label sk-toggleable\"><input class=\"sk-toggleable__control sk-hidden--visually\" id=\"eb2e0452-acf2-4128-84e7-e5a2fed007ac\" type=\"checkbox\" ><label for=\"eb2e0452-acf2-4128-84e7-e5a2fed007ac\" class=\"sk-toggleable__label sk-toggleable__label-arrow\">StackingRegressor</label><div class=\"sk-toggleable__content\"><pre>StackingRegressor(estimators=[(&#x27;Lasso&#x27;,\n",
              "                               Pipeline(steps=[(&#x27;functiontransformer&#x27;,\n",
              "                                                FunctionTransformer()),\n",
              "                                               (&#x27;lasso&#x27;, Lasso())])),\n",
              "                              (&#x27;ElasticNet&#x27;,\n",
              "                               Pipeline(steps=[(&#x27;functiontransformer&#x27;,\n",
              "                                                FunctionTransformer()),\n",
              "                                               (&#x27;elasticnet&#x27;, ElasticNet())])),\n",
              "                              (&#x27;RandomForestRegressor&#x27;,\n",
              "                               Pipeline(steps=[(&#x27;functiontransformer&#x27;,\n",
              "                                                FunctionTransformer()),\n",
              "                                               (&#x27;randomforestregressor&#x27;,\n",
              "                                                RandomForestRegressor())])),\n",
              "                              (&#x27;GradientBoostingRegressor&#x27;,\n",
              "                               Pipeline(steps=[(&#x27;functiontransformer&#x27;,\n",
              "                                                FunctionTransformer()),\n",
              "                                               (&#x27;gradientboostingregressor&#x27;,\n",
              "                                                GradientBoostingRegressor())]))],\n",
              "                  final_estimator=RidgeCV(alphas=array([ 0.1,  1. , 10. ])))</pre></div></div></div><div class=\"sk-serial\"><div class=\"sk-item\"><div class=\"sk-parallel\"><div class=\"sk-parallel-item\"><div class=\"sk-item\"><div class=\"sk-label-container\"><div class=\"sk-label sk-toggleable\"><label>Lasso</label></div></div><div class=\"sk-serial\"><div class=\"sk-item\"><div class=\"sk-serial\"><div class=\"sk-item\"><div class=\"sk-estimator sk-toggleable\"><input class=\"sk-toggleable__control sk-hidden--visually\" id=\"40e8d580-c0cc-4768-96ae-14a303e42532\" type=\"checkbox\" ><label for=\"40e8d580-c0cc-4768-96ae-14a303e42532\" class=\"sk-toggleable__label sk-toggleable__label-arrow\">FunctionTransformer</label><div class=\"sk-toggleable__content\"><pre>FunctionTransformer()</pre></div></div></div><div class=\"sk-item\"><div class=\"sk-estimator sk-toggleable\"><input class=\"sk-toggleable__control sk-hidden--visually\" id=\"2ed85be8-645b-4663-ae44-c3acf19cfefc\" type=\"checkbox\" ><label for=\"2ed85be8-645b-4663-ae44-c3acf19cfefc\" class=\"sk-toggleable__label sk-toggleable__label-arrow\">Lasso</label><div class=\"sk-toggleable__content\"><pre>Lasso()</pre></div></div></div></div></div></div></div></div><div class=\"sk-parallel-item\"><div class=\"sk-item\"><div class=\"sk-label-container\"><div class=\"sk-label sk-toggleable\"><label>ElasticNet</label></div></div><div class=\"sk-serial\"><div class=\"sk-item\"><div class=\"sk-serial\"><div class=\"sk-item\"><div class=\"sk-estimator sk-toggleable\"><input class=\"sk-toggleable__control sk-hidden--visually\" id=\"a5284461-bfd0-4b64-8e88-f4d3c3333102\" type=\"checkbox\" ><label for=\"a5284461-bfd0-4b64-8e88-f4d3c3333102\" class=\"sk-toggleable__label sk-toggleable__label-arrow\">FunctionTransformer</label><div class=\"sk-toggleable__content\"><pre>FunctionTransformer()</pre></div></div></div><div class=\"sk-item\"><div class=\"sk-estimator sk-toggleable\"><input class=\"sk-toggleable__control sk-hidden--visually\" id=\"20aa59ca-1c00-471e-81c1-1b37791cdd75\" type=\"checkbox\" ><label for=\"20aa59ca-1c00-471e-81c1-1b37791cdd75\" class=\"sk-toggleable__label sk-toggleable__label-arrow\">ElasticNet</label><div class=\"sk-toggleable__content\"><pre>ElasticNet()</pre></div></div></div></div></div></div></div></div><div class=\"sk-parallel-item\"><div class=\"sk-item\"><div class=\"sk-label-container\"><div class=\"sk-label sk-toggleable\"><label>RandomForestRegressor</label></div></div><div class=\"sk-serial\"><div class=\"sk-item\"><div class=\"sk-serial\"><div class=\"sk-item\"><div class=\"sk-estimator sk-toggleable\"><input class=\"sk-toggleable__control sk-hidden--visually\" id=\"236b238d-bccf-4ffb-95a5-11362cae9440\" type=\"checkbox\" ><label for=\"236b238d-bccf-4ffb-95a5-11362cae9440\" class=\"sk-toggleable__label sk-toggleable__label-arrow\">FunctionTransformer</label><div class=\"sk-toggleable__content\"><pre>FunctionTransformer()</pre></div></div></div><div class=\"sk-item\"><div class=\"sk-estimator sk-toggleable\"><input class=\"sk-toggleable__control sk-hidden--visually\" id=\"3d3e4d1c-65b6-4444-8938-4fe7a73a962c\" type=\"checkbox\" ><label for=\"3d3e4d1c-65b6-4444-8938-4fe7a73a962c\" class=\"sk-toggleable__label sk-toggleable__label-arrow\">RandomForestRegressor</label><div class=\"sk-toggleable__content\"><pre>RandomForestRegressor()</pre></div></div></div></div></div></div></div></div><div class=\"sk-parallel-item\"><div class=\"sk-item\"><div class=\"sk-label-container\"><div class=\"sk-label sk-toggleable\"><label>GradientBoostingRegressor</label></div></div><div class=\"sk-serial\"><div class=\"sk-item\"><div class=\"sk-serial\"><div class=\"sk-item\"><div class=\"sk-estimator sk-toggleable\"><input class=\"sk-toggleable__control sk-hidden--visually\" id=\"fc95b4ae-8aa4-43cb-a295-e076f24428f6\" type=\"checkbox\" ><label for=\"fc95b4ae-8aa4-43cb-a295-e076f24428f6\" class=\"sk-toggleable__label sk-toggleable__label-arrow\">FunctionTransformer</label><div class=\"sk-toggleable__content\"><pre>FunctionTransformer()</pre></div></div></div><div class=\"sk-item\"><div class=\"sk-estimator sk-toggleable\"><input class=\"sk-toggleable__control sk-hidden--visually\" id=\"9b8184eb-705f-408c-a7e8-655ad2702d03\" type=\"checkbox\" ><label for=\"9b8184eb-705f-408c-a7e8-655ad2702d03\" class=\"sk-toggleable__label sk-toggleable__label-arrow\">GradientBoostingRegressor</label><div class=\"sk-toggleable__content\"><pre>GradientBoostingRegressor()</pre></div></div></div></div></div></div></div></div></div></div><div class=\"sk-item\"><div class=\"sk-parallel\"><div class=\"sk-parallel-item\"><div class=\"sk-item\"><div class=\"sk-label-container\"><div class=\"sk-label sk-toggleable\"><label>final_estimator</label></div></div><div class=\"sk-serial\"><div class=\"sk-item\"><div class=\"sk-estimator sk-toggleable\"><input class=\"sk-toggleable__control sk-hidden--visually\" id=\"35fdc7a9-0357-447b-8281-b62c326ceb27\" type=\"checkbox\" ><label for=\"35fdc7a9-0357-447b-8281-b62c326ceb27\" class=\"sk-toggleable__label sk-toggleable__label-arrow\">RidgeCV</label><div class=\"sk-toggleable__content\"><pre>RidgeCV(alphas=array([ 0.1,  1. , 10. ]))</pre></div></div></div></div></div></div></div></div></div></div></div></div>"
            ]
          },
          "metadata": {}
        }
      ]
    },
    {
      "cell_type": "markdown",
      "source": [
        "### 참고 자료\n",
        "- Scicit Learn Stacking [Link](https://scikit-learn.org/stable/auto_examples/ensemble/plot_stack_predictors.html)\n",
        "- Stacked Regressions [Link](https://www.kaggle.com/code/serigne/stacked-regressions-top-4-on-leaderboard)\n",
        "- Comprehensive Data Exploration [Link](https://www.kaggle.com/code/pmarcelino/comprehensive-data-exploration-with-python/notebook)"
      ],
      "metadata": {
        "id": "GGSuxfDzpgBq"
      }
    }
  ]
}